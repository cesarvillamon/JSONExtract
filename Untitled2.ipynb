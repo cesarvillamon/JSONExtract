{
  "metadata": {
    "kernelspec": {
      "name": "python",
      "display_name": "Python (Pyodide)",
      "language": "python"
    },
    "language_info": {
      "codemirror_mode": {
        "name": "python",
        "version": 3
      },
      "file_extension": ".py",
      "mimetype": "text/x-python",
      "name": "python",
      "nbconvert_exporter": "python",
      "pygments_lexer": "ipython3",
      "version": "3.8"
    }
  },
  "nbformat_minor": 4,
  "nbformat": 4,
  "cells": [
    {
      "cell_type": "markdown",
      "source": "# Desarrollo de 2do ejercicio en Python usando diccionarios y listas.",
      "metadata": {}
    },
    {
      "cell_type": "code",
      "source": "import json\nfrom datetime import datetime\nimport locale\nfrom dateutil import parser\nimport re\nlista = []\nmonths = {\n    'Enero': 'January',\n    'Febrero': 'February',\n    'Marzo': 'March',\n    'Abril': 'April',\n    'Mayo': 'May',\n    'Junio': 'June',\n    'Julio': 'July',\n    'Agosto': 'August',\n    'Septiembre': 'September',\n    'Octubre': 'October',\n    'Noviembre': 'November',\n    'Diciembre': 'December'\n}\n\nwith open('json2.json', \"r\") as archivo:\n    datos = json.load(archivo)\n\nfor block in datos[\"Blocks\"]:\n    if \"Text\" in block and \"Nro Matrícula\" in block[\"Text\"]:\n        numero_matricula = block[\"Text\"].split(\":\")[1].strip()\n    if \"Text\" in block and \"Impreso el\" in block[\"Text\"]:\n        fecha = block[\"Text\"].replace(\"Impreso el \", \"\")\n        fecha_otra = fecha.replace(\"de \",\"\").split(\"a las\")[0].strip()\n        for clave in months:\n            if clave in fecha_otra:\n                final = fecha_otra.replace(clave,months[clave])\n        fecha_objeto = datetime.strptime(final, \"%d %B %Y\")\n        fecha_formateada = fecha_objeto.strftime('%Y-%m-%d')\n    if \"Text\" in block and \"CIRCULO REGISTRAL\" in block[\"Text\"]:\n        patron_dept = r'DEPTO:(.*?)MUNICIPIO:'\n        patron_mun = r'MUNICIPIO:(.*?)VEREDA:'\n        patron_ver = r'VEREDA:(.*)'\n        resultado_dept = re.search(patron_dept, block[\"Text\"])\n        resultado_mun = re.search(patron_mun, block[\"Text\"])\n        resultado_ver = re.search(patron_ver, block[\"Text\"])\n        if resultado_dept:\n            departamento = resultado_dept.group(1).strip().capitalize()\n        if resultado_mun:\n            municipio = resultado_mun.group(1).strip().capitalize()\n        if resultado_ver:\n            vereda = resultado_ver.group(1).strip().capitalize()\n    i=0\n    for blocks in block:\n        i += 1\n        if i==5:\n            lista.append(block[blocks])\n        i += 1\n        if block[blocks] == \"ESTADO DEL FOLIO:\":\n            i=1\ncount = 0\nfor i in lista:\n    count += 1\n    if i == \"ESTADO DEL FOLIO:\":\n        estado = lista[count]\nprint(\"Número de Matrícula:\", numero_matricula)\nprint(\"Fecha:\", fecha_formateada)\nprint(\"Departamento:\",departamento)\nprint(\"Municipio:\",municipio)\nprint(\"Vereda:\",vereda)\nprint(\"Estado de folio:\",estado)",
      "metadata": {
        "trusted": true
      },
      "outputs": [
        {
          "name": "stdout",
          "text": "Número de Matrícula: 040-464031\nFecha: 2022-02-04\nDepartamento: Atlantico\nMunicipio: Barranquilla\nVereda: Barranquilla\nEstado de folio: ACTIVO\n",
          "output_type": "stream"
        }
      ],
      "execution_count": 1
    },
    {
      "cell_type": "markdown",
      "source": "# Desarrollo de 2do ejercicio en Python usando pandas.",
      "metadata": {}
    },
    {
      "cell_type": "code",
      "source": "import pandas as pd\nimport json\nfrom datetime import datetime\nimport re\nmonths = {\n    'Enero': 'January',\n    'Febrero': 'February',\n    'Marzo': 'March',\n    'Abril': 'April',\n    'Mayo': 'May',\n    'Junio': 'June',\n    'Julio': 'July',\n    'Agosto': 'August',\n    'Septiembre': 'September',\n    'Octubre': 'October',\n    'Noviembre': 'November',\n    'Diciembre': 'December'\n}\n# Leer el archivo json\nwith open('json2.json', 'r') as file:\n    data = json.load(file)\n#----\nlista = []\n#Generar dataframe a partir de lo leido\nfor i in range(1,len(data[\"Blocks\"])):\n    lista.append((data[\"Blocks\"][i])[\"Text\"])\ndf = pd.DataFrame(lista)\n#Búsqueda de coincidencias\nfiltro_matricula = df[0].str.contains('Nro Matrícula', case=False)\nfiltro_fecha = df[0].str.contains('Impreso el', case=False)\nfiltro_ubicacion = df[0].str.contains('CIRCULO REGISTRAL', case=False)\nfiltro_folio = df[df[0] == 'ESTADO DEL FOLIO:'].index[0]\n#Busqueda y refinamiento de elementos coincidentes\nresultados = df[filtro_matricula][0].str.slice(15)\nresultados_fecha = df[filtro_fecha][0].str.extract(r'(\\d{1,2} de [a-zA-Z]+ de \\d{4})').to_string(index=False)\nresultados_departamento = df[filtro_ubicacion][0].str.extract(r'DEPTO:\\s*(.*?)\\s*MUNICIPIO:')\nresultados_municipio = df[filtro_ubicacion][0].str.extract(r'MUNICIPIO:\\s*(.*?)\\s*VEREDA:')\nresultados_vereda = df[filtro_ubicacion][0].str.extract(r'VEREDA:(.*)')\nresultados_folio = df.iloc[filtro_folio+1]\npatron_fecha = re.compile(r'(\\d+ de [a-zA-Z]+ de \\d{4})')\ncoincidencia = re.search(patron_fecha, resultados_fecha)\nfecha_extraida = coincidencia.group(1).strip() if coincidencia else None\n#Impresión de resultados\nfor clave in months:\n    if clave in fecha_extraida:\n        final = fecha_extraida.replace(clave,months[clave])\nfecha_otra = final.replace(\"de \",\"\").split(\"a las\")[0].strip()\nfecha_objeto = datetime.strptime(fecha_otra, \"%d %B %Y\")\nfecha_formateada = fecha_objeto.strftime('%Y-%m-%d')\nserie_resultante = pd.Series(str(fecha_formateada))\n#Refinamiento de dataframe final\ndf_final = pd.concat([resultados, serie_resultante,resultados_departamento,resultados_municipio,resultados_vereda,resultados_folio], axis=0, ignore_index=True)\nnueva_columna = pd.Series(['Matrícula', 'Fecha_Impresión', 'Departamento', 'Ciudad', 'Vereda','Estado_Folio'], name='Relación')\ndf_final.insert(0, 'Relación', nueva_columna)\ndf_final.columns.values[1] = 'Datos'\nprint(df_final)",
      "metadata": {
        "trusted": true
      },
      "outputs": [
        {
          "name": "stdout",
          "text": "          Relación          Datos\n0        Matrícula     040-464031\n1  Fecha_Impresión     2022-02-04\n2     Departamento      ATLANTICO\n3           Ciudad   BARRANQUILLA\n4           Vereda   BARRANQUILLA\n5     Estado_Folio         ACTIVO\n",
          "output_type": "stream"
        }
      ],
      "execution_count": 27
    },
    {
      "cell_type": "code",
      "source": "",
      "metadata": {
        "trusted": true
      },
      "outputs": [],
      "execution_count": null
    }
  ]
}